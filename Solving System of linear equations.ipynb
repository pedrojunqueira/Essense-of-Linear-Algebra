{
 "cells": [
  {
   "cell_type": "markdown",
   "metadata": {},
   "source": [
    "# Understanding the Essense of Linear Algebra\n",
    "\n",
    "Linear Algebra is the foundation of modern machine learning. This because almost all implementation of machine learning algorithm are vectorized and consistis of linear transformations and multiplications of vectors and matrices, so in order to really get the most of machine learning and really understand what goes under the hood it is essencial to have a good undertanding of linear algebra, specially vector matrix multiplication and linear combinations and transformations.\n",
    "\n",
    "From my personal experience, it took a while for me the concepts of linear algebra to sink in. However, what really made a difference was watching the essense of <a href=\"https://www.youtube.com/playlist?list=PLZHQObOWTQDPD3MizzM2xVFitgF8hE_ab\">linear algebra</a> YouTube videos from 3blue1brown of Grant Sanderson. Link to TB Series.\n",
    "\n",
    "I will try to cover here Vectors, Matrices, Linear Combination and Linear transformations and also System of Linear Equations\n",
    "\n",
    "Also another material that helped me a lot is the content of maths and linear algebra of the GitHub repository of Aurelion Geron, author of Hands of Machine Learning with Sklearn and Tensorflow. Link below\n",
    "\n"
   ]
  },
  {
   "cell_type": "markdown",
   "metadata": {},
   "source": [
    "# What is a vector?\n",
    "\n",
    " A vector is a quantity defined by a magnitude and a direction. For example, a rocket's velocity is a 3-dimensional vector: its magnitude is the speed of the rocket, and its direction is (hopefully) up. A vector can be represented by an array of numbers called scalars. Each scalar corresponds to the magnitude of the vector with regards to each dimension. <a href=\"https://github.com/ageron/handson-ml/blob/master/math_linear_algebra.ipynb\">[from Github]</a>"
   ]
  },
  {
   "cell_type": "markdown",
   "metadata": {},
   "source": [
    "What I will try to demostrate here is what is a linear transformation that was briliantly explained in the YouTube Video from 3Blue1Brown <a href=\"https://www.youtube.com/watch?v=kYB8IZa5AuE&list=PLZHQObOWTQDPD3MizzM2xVFitgF8hE_ab&index=4&t=2s\">Linear Transformation</a> and to be honest after I watched this video the whole concept of linear algebra and the reason we study it made complete sense and I started finally understanding more complicated topics like Determinant, Matrices, DotProducts, Eigenvectors and more. \n",
    "\n",
    "But what a linear transformation is?\n",
    "\n",
    "Put simply if you think like a function in mathematics where you have an input that are transformed in an output, then a linear tranformation has an input vector that produces an output vector.\n",
    "\n",
    "If we plot things become clearer.\n",
    "\n",
    "Lets borrow a function that plot vectors in a 2D subspace from Auleien Geron GitHub Repo.\n",
    "\n"
   ]
  },
  {
   "cell_type": "code",
   "execution_count": 73,
   "metadata": {},
   "outputs": [],
   "source": [
    "import numpy as np\n",
    "%matplotlib inline\n",
    "import matplotlib.pyplot as plt\n",
    "\n",
    "def plot_vector2d(vector2d, origin=[0, 0], **options):\n",
    "    return plt.arrow(origin[0], origin[1], vector2d[0], vector2d[1],\n",
    "              head_width=0.2, head_length=0.3, length_includes_head=True,\n",
    "              **options)\n"
   ]
  },
  {
   "cell_type": "markdown",
   "metadata": {},
   "source": [
    "Lets start with the vector y = [-1,2] We can simply implement it using python scientific package Numpy. I am intentionaly using the same numbers used by 3blue1brown on the video 3 of the series"
   ]
  },
  {
   "cell_type": "code",
   "execution_count": 74,
   "metadata": {},
   "outputs": [],
   "source": [
    "y = np.array([-1,2])"
   ]
  },
  {
   "cell_type": "code",
   "execution_count": 75,
   "metadata": {},
   "outputs": [
    {
     "data": {
      "text/plain": [
       "array([-1,  2])"
      ]
     },
     "execution_count": 75,
     "metadata": {},
     "output_type": "execute_result"
    }
   ],
   "source": [
    "y"
   ]
  },
  {
   "cell_type": "code",
   "execution_count": 76,
   "metadata": {},
   "outputs": [
    {
     "data": {
      "image/png": "[encoded data removed]",
      "text/plain": [
       "<Figure size 432x288 with 1 Axes>"
      ]
     },
     "metadata": {
      "needs_background": "light"
     },
     "output_type": "display_data"
    }
   ],
   "source": [
    "# plotting y\n",
    "plot_vector2d(y, color=\"r\")\n",
    "plt.axis([-5, 5, -5, 5])\n",
    "plt.axhline(y=0, color='k')\n",
    "plt.axvline(x=0, color='k')\n",
    "plt.grid()\n",
    "plt.show()"
   ]
  },
  {
   "cell_type": "markdown",
   "metadata": {},
   "source": [
    "A vector of coordinated [-1,2] is a point on the x,y catesian system represented by a an arrow starting at origin."
   ]
  },
  {
   "cell_type": "markdown",
   "metadata": {},
   "source": [
    "# Undertanding Span and basis vector\n",
    "\n",
    "A linear combinarion is the sum of 2 scaled (multiplication of a vector by a scalar) vectors. The set of all possible vectors of a linear combination of 2 independent vectors (vectors that don't \"line up\") is called the span of those 2 vectors\n",
    "\n",
    "\n",
    "There are 2 especial vectors, i and j, that are called <b>basis vector</b>. They are unit vector (lenght 1) and linear independend and the set of all possible linear combination of i and j span the full space. \n",
    "\n",
    "This means that we can reach any point in the space by a linear combination of i and j.\n",
    "\n",
    "the i vector coordinates are [1,0] and the j vector coordinates are [0,1] \n",
    "\n",
    "For example vector y is the combination of -1i+2j\n"
   ]
  },
  {
   "cell_type": "code",
   "execution_count": 77,
   "metadata": {},
   "outputs": [],
   "source": [
    "i = np.array([1,0])\n",
    "j = np.array([0,1])"
   ]
  },
  {
   "cell_type": "code",
   "execution_count": 78,
   "metadata": {},
   "outputs": [
    {
     "data": {
      "image/png": "[encoded data removed]",
      "text/plain": [
       "<Figure size 360x360 with 1 Axes>"
      ]
     },
     "metadata": {
      "needs_background": "light"
     },
     "output_type": "display_data"
    }
   ],
   "source": [
    "# Plotting i j and y\n",
    "fig = plt.figure(figsize=(5,5))\n",
    "plot_vector2d(y, color=\"r\")\n",
    "plot_vector2d(i, color=\"b\")\n",
    "plot_vector2d(j, color=\"g\")\n",
    "plt.axis([-4, 4, -4, 4])\n",
    "plt.axhline(y=0, color='k')\n",
    "plt.axvline(x=0, color='k')\n",
    "plt.text(0.3, .5, \"j\", color=\"g\", fontsize=15)\n",
    "plt.text(0.3, -.5, \"i\", color=\"b\", fontsize=15)\n",
    "plt.text(-1, 2.2, \"y\", color=\"r\", fontsize=12)\n",
    "plt.grid()\n",
    "plt.show()"
   ]
  },
  {
   "cell_type": "code",
   "execution_count": 79,
   "metadata": {},
   "outputs": [
    {
     "data": {
      "image/png": "[encoded data removed]",
      "text/plain": [
       "<Figure size 360x360 with 1 Axes>"
      ]
     },
     "metadata": {
      "needs_background": "light"
     },
     "output_type": "display_data"
    }
   ],
   "source": [
    "# y can be reached by scaling i by -1 and j by 2 and summing them together\n",
    "\n",
    "j_x2= j*2\n",
    "i_xminus1 = i*-1\n",
    "\n",
    "fig = plt.figure(figsize=(5,5))\n",
    "plot_vector2d(y, color=\"r\")\n",
    "plot_vector2d(j_x2, color=\"g\")\n",
    "plot_vector2d(i_xminus1,origin=j_x2, color=\"b\")\n",
    "plt.axis([-4, 4, -4, 4])\n",
    "plt.axhline(y=0, color='k')\n",
    "plt.axvline(x=0, color='k')\n",
    "plt.text(0.3, 1.5, \"2*j\", color=\"g\", fontsize=15)\n",
    "plt.text(-1, 2.5, \"-1*i\", color=\"b\", fontsize=15)\n",
    "plt.text(-1, 2.2, \"y\", color=\"r\", fontsize=12)\n",
    "plt.grid()\n",
    "plt.show()"
   ]
  },
  {
   "cell_type": "markdown",
   "metadata": {},
   "source": [
    "We can think that a span can be represented as diferent coordinate system. Like in the chart above, it was represented by the basis vector i,j, which make it simple to think as ther are unit vector or the length 1. But we can have diferent leghts of independent vectors that can also reach any point in the plan by a linear combination of them.\n",
    "In this context, when a linear transformation happens or a vector move, in another words, transform in space all other vectos are scaled by the same proportion, including the basis vecor.\n",
    "\n",
    "Think of the linear transformation where i and j lands on [1,-2] and [3,0] respectively. Where would y would move to? or transforemed to?"
   ]
  },
  {
   "cell_type": "code",
   "execution_count": 83,
   "metadata": {},
   "outputs": [
    {
     "data": {
      "image/png": "[encoded data removed]",
      "text/plain": [
       "<Figure size 360x360 with 1 Axes>"
      ]
     },
     "metadata": {
      "needs_background": "light"
     },
     "output_type": "display_data"
    }
   ],
   "source": [
    "i_transformed = np.array([1,-2])\n",
    "j_transformed = np.array([3,0])\n",
    "\n",
    "fig = plt.figure(figsize=(5,5))\n",
    "\n",
    "plot_vector2d(j_transformed, color=\"g\")\n",
    "plot_vector2d(i_transformed, color=\"b\")\n",
    "plt.axis([-4, 4, -4, 4])\n",
    "plt.axhline(y=0, color='k')\n",
    "plt.axvline(x=0, color='k')\n",
    "plt.text(3.5, .3, \"j_transformed\", color=\"g\", fontsize=15)\n",
    "plt.text(1.3, -2, \"i_transformed\", color=\"b\", fontsize=15)\n",
    "\n",
    "plt.text(2, 2, \"y_transformed????\", color=\"r\", fontsize=15)\n",
    "\n",
    "\n",
    "\n",
    "\n",
    "plt.grid()\n",
    "plt.show()"
   ]
  },
  {
   "cell_type": "markdown",
   "metadata": {},
   "source": [
    "Well if $$y = -1*i+2*j $$ then $$ytransformed = -1*(itransformed) + 2*(jtransformed)$$"
   ]
  },
  {
   "cell_type": "code",
   "execution_count": 84,
   "metadata": {},
   "outputs": [],
   "source": [
    "# so lets calculate\n",
    "y_transformed = -1*i_transformed + 2*j_transformed"
   ]
  },
  {
   "cell_type": "code",
   "execution_count": 85,
   "metadata": {},
   "outputs": [
    {
     "data": {
      "text/plain": [
       "array([5, 2])"
      ]
     },
     "execution_count": 85,
     "metadata": {},
     "output_type": "execute_result"
    }
   ],
   "source": [
    "y_transformed"
   ]
  },
  {
   "cell_type": "code",
   "execution_count": 86,
   "metadata": {},
   "outputs": [
    {
     "data": {
      "image/png": "[encoded data removed]",
      "text/plain": [
       "<Figure size 360x360 with 1 Axes>"
      ]
     },
     "metadata": {
      "needs_background": "light"
     },
     "output_type": "display_data"
    }
   ],
   "source": [
    "fig = plt.figure(figsize=(5,5))\n",
    "\n",
    "plot_vector2d(j_transformed, color=\"g\")\n",
    "plot_vector2d(i_transformed, color=\"b\")\n",
    "plt.axis([-6, 6, -6, 6])\n",
    "plt.axhline(y=0, color='k')\n",
    "plt.axvline(x=0, color='k')\n",
    "plt.text(3.5, .3, \"j\", color=\"g\", fontsize=15)\n",
    "plt.text(1.3, -2, \"i\", color=\"b\", fontsize=15)\n",
    "plot_vector2d(y, color=\"r\")\n",
    "plot_vector2d(y_transformed, color=\"r\")\n",
    "plt.text(-1, 2.2, \"y\", color=\"r\", fontsize=12)\n",
    "plt.text(5, 2.2, \"y_transformed\", color=\"r\", fontsize=12)\n",
    "\n",
    "plt.grid()\n",
    "plt.show()\n"
   ]
  },
  {
   "cell_type": "markdown",
   "metadata": {},
   "source": [
    "# Solving Systems of linear equations\n",
    "\n",
    "As a general case we can think of a system of linear equations to be represented as a linear transformation where the input vector is the origin position (y) and the output vector is the transformed vector (y_transformed)\n",
    "\n",
    "Lets think of a concrete example of the following system\n",
    "\n",
    "\n",
    "$$\\begin{cases} 1x + 3y = 5\\\\ -2x = 2 \\\\ \\end{cases}$$\n",
    "\n",
    "This happens to be the equations of the transformation above. Let's pretend that we do not know the answer\n",
    "\n",
    "We can represent the system of linear equations with the following\n",
    "\n",
    "$$\\begin{bmatrix} 1 & 3 \\\\ -2 & 0 \\end{bmatrix} \\begin{bmatrix} x \\\\ y  \\end{bmatrix} = \\begin{bmatrix} 5 \\\\2  \\end{bmatrix}$$\n",
    "\n",
    "In other words what is the the input vector $$ \\begin{bmatrix} x \\\\ y  \\end{bmatrix} $$ \n",
    "\n",
    "that produces the output $$ \\begin{bmatrix} 5 \\\\2  \\end{bmatrix} $$\n",
    "\n",
    "by the following transformation represented by the matrix $$\\begin{bmatrix} 1 & 3 \\\\ -2 & 0 \\end{bmatrix} $$\n",
    "\n",
    "\n",
    "\n",
    "The diference now we don't know the origin of y. How can we move it back to the origin position?\n",
    "\n",
    "We know that we can use methods like substitution of <a href=\"https://en.wikipedia.org/wiki/Gaussian_elimination\">gaussian elimination</a> if we wanted to do it by hand, but we can also use python to solve and still have a better understanding and intuition of what is happening in the 2D space rather than just memorize techniques of solving system of linear equation.\n",
    "\n",
    "The way to solve it is to find the inverse of the matrix where i and j is transformed so we will find its original position therefore finding where y original position was which is the x,y coordinates.\n",
    "\n",
    "so using Numpy we can solve it in one line\n"
   ]
  },
  {
   "cell_type": "code",
   "execution_count": 56,
   "metadata": {},
   "outputs": [],
   "source": [
    "# first create the matrix 2x2 i.e. where i and j lands\n",
    "A = np.array([[1,3],[-2,0]])\n",
    "# then the transformed vector y_transformed\n",
    "y_transformed = np.array([5,2])"
   ]
  },
  {
   "cell_type": "code",
   "execution_count": 87,
   "metadata": {},
   "outputs": [],
   "source": [
    "# then we calculate (here is the one line)\n",
    "\n",
    "x_y = np.linalg.inv(A).dot(y_transformed)"
   ]
  },
  {
   "cell_type": "code",
   "execution_count": 88,
   "metadata": {},
   "outputs": [
    {
     "data": {
      "text/plain": [
       "array([-1.,  2.])"
      ]
     },
     "execution_count": 88,
     "metadata": {},
     "output_type": "execute_result"
    }
   ],
   "source": [
    "# voila !!!\n",
    "x_y"
   ]
  },
  {
   "cell_type": "markdown",
   "metadata": {},
   "source": [
    "Now think of any system of equation. Lets get a 3 dimentinal space solution for a system of 3 equations with 3 variables"
   ]
  },
  {
   "cell_type": "code",
   "execution_count": 61,
   "metadata": {},
   "outputs": [
    {
     "data": {
      "text/html": [
       "<img src=\"https://www.brainfans.com/brainteasers/brain-teaser-number-maths-puzzles-math-equation-with-answer-116888067858e144aff1dfa4.35247227.png\"/>"
      ],
      "text/plain": [
       "<IPython.core.display.Image object>"
      ]
     },
     "execution_count": 61,
     "metadata": {},
     "output_type": "execute_result"
    }
   ],
   "source": [
    "from IPython.display import Image\n",
    "from IPython.core.display import HTML \n",
    "Image(url= \"https://www.brainfans.com/brainteasers/brain-teaser-number-maths-puzzles-math-equation-with-answer-116888067858e144aff1dfa4.35247227.png\")"
   ]
  },
  {
   "cell_type": "markdown",
   "metadata": {},
   "source": [
    "So this would be a linear system of equation like\n",
    "\n",
    "$$\\begin{cases} 3*d = 30\\\\ 1*d + 2h  = 20 \\\\  1h + 4c  = 9\\end{cases}$$\n",
    "\n",
    "And in a linear transformation representationvit would be\n",
    "\n",
    "$$\\begin{bmatrix} 3 & 0 & 0 \\\\ 1 & 2 & 0 \\\\ 0 & 1 & 4\\end{bmatrix} \\begin{bmatrix} d \\\\ h \\\\ c  \\end{bmatrix} = \\begin{bmatrix} 30 \\\\20 \\\\ 9  \\end{bmatrix}$$\n"
   ]
  },
  {
   "cell_type": "code",
   "execution_count": 89,
   "metadata": {},
   "outputs": [],
   "source": [
    "# Matrix\n",
    "M = np.array([[3,0,0],[1,2,0],[0,1,4]])\n",
    "# Transformed\n",
    "v = np.array([30,20,9])"
   ]
  },
  {
   "cell_type": "code",
   "execution_count": 90,
   "metadata": {},
   "outputs": [],
   "source": [
    "d_h_c = np.linalg.inv(M).dot(v)"
   ]
  },
  {
   "cell_type": "code",
   "execution_count": 91,
   "metadata": {},
   "outputs": [
    {
     "data": {
      "text/plain": [
       "array([10.,  5.,  1.])"
      ]
     },
     "execution_count": 91,
     "metadata": {},
     "output_type": "execute_result"
    }
   ],
   "source": [
    "d_h_c"
   ]
  },
  {
   "cell_type": "code",
   "execution_count": 92,
   "metadata": {},
   "outputs": [
    {
     "name": "stdout",
     "output_type": "stream",
     "text": [
      "49.0\n"
     ]
    }
   ],
   "source": [
    "# the anwer to the problem is\n",
    "\n",
    "d, h, c = d_h_c\n",
    "answer = h*d-c\n",
    "print(answer)\n",
    "\n",
    "# look up here https://www.brainfans.com/brain-teaser/number-and-math-puzzle/149/math-equation-with-answer"
   ]
  },
  {
   "cell_type": "markdown",
   "metadata": {},
   "source": [
    "Hope you enjoyed the explanation and learned the essense of linear algebra. If you still do not get it. Please watch the videos of 3blue1brown. :)"
   ]
  }
 ],
 "metadata": {
  "kernelspec": {
   "display_name": "Python 3",
   "language": "python",
   "name": "python3"
  },
  "language_info": {
   "codemirror_mode": {
    "name": "ipython",
    "version": 3
   },
   "file_extension": ".py",
   "mimetype": "text/x-python",
   "name": "python",
   "nbconvert_exporter": "python",
   "pygments_lexer": "ipython3",
   "version": "3.7.3"
  }
 },
 "nbformat": 4,
 "nbformat_minor": 2
}
